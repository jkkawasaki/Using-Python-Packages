{
 "cells": [
  {
   "cell_type": "code",
   "execution_count": 1,
   "id": "2d22bc9e-c4f2-4886-8999-ff0abf0c629b",
   "metadata": {},
   "outputs": [],
   "source": [
    "#An introduction to the library and its sources as comments. (10 Points)\n",
    "\n",
    "#Advantages, limitations of using the library also provided as comments (10 Points)\n",
    "\n",
    "#Code to demonstrate calling the library, and use an example dataset to run the library. (30 Points) Here are some datasets you can use if you don’t have one:"
   ]
  },
  {
   "cell_type": "code",
   "execution_count": 2,
   "id": "d3315a82-5d4a-42ae-9c7d-75b8cb47a614",
   "metadata": {},
   "outputs": [],
   "source": [
    "#PyMuPDF is a Python package that can do data analysis from PDFs, word documents, and even images. PyMuPDF can be found on GitHub.\n",
    "\n",
    "\n",
    "#PyMuPDF allows for the use of PDFs in Python. It is able to get data from PDFs, edit PDFs, and even fill them out. \n",
    "#However, some limitations are that it can struggle with low quality PDFs, has more limited abilities in comparison to other PDF editing tools (such as \n",
    "#Adobe, and struggles with encrypted PDFs."
   ]
  },
  {
   "cell_type": "code",
   "execution_count": 3,
   "id": "8fba1000-3c67-4b46-9e25-59fac91b0565",
   "metadata": {},
   "outputs": [],
   "source": [
    "import fitz\n",
    "doc = fitz.open(\"breast-cancer.pdf\")\n",
    "\n",
    "#takes text from a PDF and puts it into a text file\n",
    "def extract_text_from_pdf(pdf_path, output_file):\n",
    "  with fitz.open(pdf_path) as doc:\n",
    "    text = \"\"\n",
    "    for page_num in range(len(doc)):\n",
    "      page = doc[page_num]\n",
    "      text += page.get_text()\n",
    "\n",
    "    with open(output_file, \"w\", encoding=\"utf-8\") as f:\n",
    "      f.write(text)\n",
    "\n",
    "pdf_path = \"breast-cancer.pdf\"\n",
    "output_file = \"extracted_text.txt\"\n",
    "\n",
    "extract_text_from_pdf(pdf_path, output_file)"
   ]
  },
  {
   "cell_type": "code",
   "execution_count": 4,
   "id": "6b6a6f09-82af-4027-9936-191c471b2f35",
   "metadata": {},
   "outputs": [
    {
     "name": "stdout",
     "output_type": "stream",
     "text": [
      "Group: ('no-recurrence-events', '20-29')\n",
      "breast\n",
      "right    1\n",
      "Name: count, dtype: int64 \n",
      "\n",
      "Group: ('no-recurrence-events', '30-39')\n",
      "breast\n",
      "left     11\n",
      "right    10\n",
      "Name: count, dtype: int64 \n",
      "\n",
      "Group: ('no-recurrence-events', '40-49')\n",
      "breast\n",
      "right    36\n",
      "left     27\n",
      "Name: count, dtype: int64 \n",
      "\n",
      "Group: ('no-recurrence-events', '50-59')\n",
      "breast\n",
      "left     39\n",
      "right    32\n",
      "Name: count, dtype: int64 \n",
      "\n",
      "Group: ('no-recurrence-events', '60-69')\n",
      "breast\n",
      "left     23\n",
      "right    17\n",
      "Name: count, dtype: int64 \n",
      "\n",
      "Group: ('no-recurrence-events', '70-79')\n",
      "breast\n",
      "left     3\n",
      "right    2\n",
      "Name: count, dtype: int64 \n",
      "\n",
      "Group: ('recurrence-events', '30-39')\n",
      "breast\n",
      "left     10\n",
      "right     5\n",
      "Name: count, dtype: int64 \n",
      "\n",
      "Group: ('recurrence-events', '40-49')\n",
      "breast\n",
      "left     14\n",
      "right    13\n",
      "Name: count, dtype: int64 \n",
      "\n",
      "Group: ('recurrence-events', '50-59')\n",
      "breast\n",
      "left     17\n",
      "right     8\n",
      "Name: count, dtype: int64 \n",
      "\n",
      "Group: ('recurrence-events', '60-69')\n",
      "breast\n",
      "right    10\n",
      "left      7\n",
      "Name: count, dtype: int64 \n",
      "\n",
      "Group: ('recurrence-events', '70-79')\n",
      "breast\n",
      "left    1\n",
      "Name: count, dtype: int64 \n",
      "\n"
     ]
    }
   ],
   "source": [
    "import pandas as pd\n",
    "\n",
    "df = pd.read_csv('extracted_text.txt', header = None)\n",
    "column_names = ['Class', 'Age', 'Menopause', 'Tumor_size', 'inv_nodes', 'node_caps',\n",
    "                'deg_malig', 'breast', 'breast_quad', 'irradiat']\n",
    "df.columns = column_names\n",
    "\n",
    "#Iteration\n",
    "grouped_df = df.groupby(['Class', 'Age'])\n",
    "\n",
    "# Calculate the frequency of each breast category\n",
    "for name, group in grouped_df:\n",
    "    breast_counts = group['breast'].value_counts()\n",
    "    print(f\"Group: {name}\")\n",
    "    print(breast_counts, \"\\n\")"
   ]
  }
 ],
 "metadata": {
  "kernelspec": {
   "display_name": "Python 3 (ipykernel)",
   "language": "python",
   "name": "python3"
  },
  "language_info": {
   "codemirror_mode": {
    "name": "ipython",
    "version": 3
   },
   "file_extension": ".py",
   "mimetype": "text/x-python",
   "name": "python",
   "nbconvert_exporter": "python",
   "pygments_lexer": "ipython3",
   "version": "3.12.5"
  }
 },
 "nbformat": 4,
 "nbformat_minor": 5
}
